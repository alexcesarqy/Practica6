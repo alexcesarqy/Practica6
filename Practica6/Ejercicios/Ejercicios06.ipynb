{
 "cells": [
  {
   "cell_type": "markdown",
   "id": "5ee48ebd-8d52-4492-bf85-c3d69e63b5bc",
   "metadata": {},
   "source": [
    "# Ejercicios"
   ]
  },
  {
   "cell_type": "markdown",
   "id": "41c106ad-5a6d-4149-b18b-d0b2ee71b192",
   "metadata": {},
   "source": [
    "# Ejercicio 1\n",
    "# Números Pares, Impares y Primos\n",
    "Este programa permite realizar operaciones sobre un rango de números, a través de un menú con las siguientes opciones:\n",
    "\n",
    "1. Ingresar números de inicio y fin del rango.\n",
    "2. Imprimir los números pares del rango.\n",
    "3. Imprimir los números impares del rango.\n",
    "4. Imprimir los números primos del rango.\n",
    "5. Salir.\n"
   ]
  },
  {
   "cell_type": "code",
   "execution_count": 7,
   "id": "61263cf6-5241-4df3-a572-014dfc03fe6e",
   "metadata": {},
   "outputs": [
    {
     "name": "stdout",
     "output_type": "stream",
     "text": [
      "\n",
      "*** Menú de Opciones ***\n",
      "1. Ingresar números de inicio y fin del rango.\n",
      "2. Imprimir los números pares del rango.\n",
      "3. Imprimir los números impares del rango.\n",
      "4. Imprimir los números primos del rango.\n",
      "5. Salir.\n"
     ]
    },
    {
     "name": "stdin",
     "output_type": "stream",
     "text": [
      "Seleccione una opción:  1\n",
      "Ingrese el número de inicio del rango:  6\n",
      "Ingrese el número de fin del rango:  10\n"
     ]
    },
    {
     "name": "stdout",
     "output_type": "stream",
     "text": [
      "\n",
      "*** Menú de Opciones ***\n",
      "1. Ingresar números de inicio y fin del rango.\n",
      "2. Imprimir los números pares del rango.\n",
      "3. Imprimir los números impares del rango.\n",
      "4. Imprimir los números primos del rango.\n",
      "5. Salir.\n"
     ]
    },
    {
     "name": "stdin",
     "output_type": "stream",
     "text": [
      "Seleccione una opción:  3\n"
     ]
    },
    {
     "name": "stdout",
     "output_type": "stream",
     "text": [
      "Números impares: [7, 9]\n",
      "\n",
      "*** Menú de Opciones ***\n",
      "1. Ingresar números de inicio y fin del rango.\n",
      "2. Imprimir los números pares del rango.\n",
      "3. Imprimir los números impares del rango.\n",
      "4. Imprimir los números primos del rango.\n",
      "5. Salir.\n"
     ]
    },
    {
     "name": "stdin",
     "output_type": "stream",
     "text": [
      "Seleccione una opción:  4\n"
     ]
    },
    {
     "name": "stdout",
     "output_type": "stream",
     "text": [
      "Números primos: [7]\n",
      "\n",
      "*** Menú de Opciones ***\n",
      "1. Ingresar números de inicio y fin del rango.\n",
      "2. Imprimir los números pares del rango.\n",
      "3. Imprimir los números impares del rango.\n",
      "4. Imprimir los números primos del rango.\n",
      "5. Salir.\n"
     ]
    },
    {
     "name": "stdin",
     "output_type": "stream",
     "text": [
      "Seleccione una opción:  5\n"
     ]
    },
    {
     "name": "stdout",
     "output_type": "stream",
     "text": [
      "Saliendo del programa. ¡Hasta luego!\n"
     ]
    }
   ],
   "source": [
    "def obtener_pares(inicio, fin):\n",
    "    \"\"\"Devuelve una lista de números pares en el rango [inicio, fin].\"\"\"\n",
    "    return [num for num in range(inicio, fin + 1) if num % 2 == 0]\n",
    "def obtener_impares(inicio, fin):\n",
    "    \"\"\"Devuelve una lista de números impares en el rango [inicio, fin].\"\"\"\n",
    "    return [num for num in range(inicio, fin + 1) if num % 2 != 0]\n",
    "def es_primo(numero):\n",
    "    \"\"\"Verifica si un número es primo.\"\"\"\n",
    "    if numero < 2:\n",
    "        return False\n",
    "    for divisor in range(2, int(numero**0.5) + 1):\n",
    "        if numero % divisor == 0:\n",
    "            return False\n",
    "    return True\n",
    "def obtener_primos(inicio, fin):\n",
    "    \"\"\"Devuelve una lista de números primos en el rango [inicio, fin].\"\"\"\n",
    "    return [num for num in range(inicio, fin + 1) if es_primo(num)]\n",
    "def main():\n",
    "    while True:\n",
    "        print(\"\\n*** Menú de Opciones ***\")\n",
    "        print(\"1. Ingresar números de inicio y fin del rango.\")\n",
    "        print(\"2. Imprimir los números pares del rango.\")\n",
    "        print(\"3. Imprimir los números impares del rango.\")\n",
    "        print(\"4. Imprimir los números primos del rango.\")\n",
    "        print(\"5. Salir.\")\n",
    "\n",
    "        try:\n",
    "            opcion = int(input(\"Seleccione una opción: \"))\n",
    "            if opcion == 1:\n",
    "                inicio = int(input(\"Ingrese el número de inicio del rango: \"))\n",
    "                fin = int(input(\"Ingrese el número de fin del rango: \"))\n",
    "            elif opcion == 2:\n",
    "                print(\"Números pares:\", obtener_pares(inicio, fin))\n",
    "            elif opcion == 3:\n",
    "                print(\"Números impares:\", obtener_impares(inicio, fin))\n",
    "            elif opcion == 4:\n",
    "                print(\"Números primos:\", obtener_primos(inicio, fin))\n",
    "            elif opcion == 5:\n",
    "                print(\"Saliendo del programa. ¡Hasta luego!\")\n",
    "                break\n",
    "            else:\n",
    "                print(\"Opción no válida, intente nuevamente.\")\n",
    "        except ValueError:\n",
    "            print(\"Error: Debe ingresar un número válido.\")\n",
    "        except NameError:\n",
    "            print(\"Error: Ingrese primero el rango de números (opción 1).\")\n"
   ]
  },
  {
   "cell_type": "markdown",
   "id": "de22e31c-3033-42dd-af92-89317946587d",
   "metadata": {},
   "source": [
    "# Ejercicio 2\n",
    "# Tabla de Multiplicar\n",
    "Este programa permite realizar operaciones con tablas de multiplicar basadas en un rango de números. Las opciones disponibles son:\n",
    "\n",
    "1. Ingresar rango de números.\n",
    "2. Imprimir la tabla de multiplicar para los números pares del rango.\n",
    "3. Imprimir la tabla de multiplicar para los números impares del rango.\n",
    "4. Ingresar un número para imprimir su tabla de multiplicar.\n",
    "5. Salir.\n"
   ]
  },
  {
   "cell_type": "code",
   "execution_count": 23,
   "id": "4feea02e-7d1e-4572-a80c-b0c0914bf997",
   "metadata": {},
   "outputs": [
    {
     "name": "stdout",
     "output_type": "stream",
     "text": [
      "\n",
      "*********** Menú: Tabla de Multiplicar ***********\n",
      "1. Ingresar rango de números\n",
      "2. Imprimir tabla de multiplicar solo números pares\n",
      "3. Imprimir tabla de multiplicar solo números impares\n",
      "4. Ingresar un número para imprimir su tabla de multiplicar\n",
      "5. Salir\n",
      "**************************************************\n"
     ]
    },
    {
     "name": "stdin",
     "output_type": "stream",
     "text": [
      "Seleccione una opción:  5\n"
     ]
    },
    {
     "name": "stdout",
     "output_type": "stream",
     "text": [
      "Saliendo del programa.\n"
     ]
    }
   ],
   "source": [
    "def menu_tabla():\n",
    "    print(\"\\n\" + \" Menú: Tabla de Multiplicar \".center(50, \"*\"))\n",
    "    print(\"1. Ingresar rango de números\")\n",
    "    print(\"2. Imprimir tabla de multiplicar solo números pares\")\n",
    "    print(\"3. Imprimir tabla de multiplicar solo números impares\")\n",
    "    print(\"4. Ingresar un número para imprimir su tabla de multiplicar\")\n",
    "    print(\"5. Salir\")\n",
    "    print(\"*\" * 50)\n",
    "\n",
    "def imprimir_tabla(numero):\n",
    "    print(f\"Tabla de multiplicar del {numero}:\")\n",
    "    for i in range(1, 11):\n",
    "        print(f\"{numero} x {i} = {numero * i}\")\n",
    "\n",
    "def tablas_rango(rango, tipo):\n",
    "    for num in rango:\n",
    "        if (tipo == \"par\" and num % 2 == 0) or (tipo == \"impar\" and num % 2 != 0):\n",
    "            imprimir_tabla(num)\n",
    "\n",
    "def main():\n",
    "    inicio, fin = None, None\n",
    "    while True:\n",
    "        menu_tabla()\n",
    "        opcion = input(\"Seleccione una opción: \")\n",
    "        if opcion == \"1\":\n",
    "            inicio, fin = ingresar_rango()\n",
    "        elif opcion == \"2\":\n",
    "            if inicio is None or fin is None:\n",
    "                print(\"Debe ingresar un rango primero.\")\n",
    "            else:\n",
    "                tablas_rango(range(inicio, fin + 1), \"par\")\n",
    "        elif opcion == \"3\":\n",
    "            if inicio is None or fin is None:\n",
    "                print(\"Debe ingresar un rango primero.\")\n",
    "            else:\n",
    "                tablas_rango(range(inicio, fin + 1), \"impar\")\n",
    "        elif opcion == \"4\":\n",
    "            try:\n",
    "                numero = int(input(\"Ingrese un número: \"))\n",
    "                imprimir_tabla(numero)\n",
    "            except ValueError:\n",
    "                print(\"Por favor, ingrese un número entero válido.\")\n",
    "        elif opcion == \"5\":\n",
    "            print(\"Saliendo del programa.\")\n",
    "            break\n",
    "        else:\n",
    "            print(\"Opción inválida, intente de nuevo.\")\n",
    "\n",
    "if __name__ == \"__main__\":\n",
    "    main()\n"
   ]
  },
  {
   "cell_type": "markdown",
   "id": "9b516eb4-2f9c-4a2b-b959-5c0f4f7f40a5",
   "metadata": {},
   "source": [
    "# Ejercicio 3\n",
    "# Números Capicúa\n",
    "Este programa permite identificar números capicúa dentro de un rango de hasta 4 cifras. Las opciones del menú son:\n",
    "\n",
    "1. Ingresar un rango de números.\n",
    "2. Imprimir números capicúa de dos cifras dentro del rango.\n",
    "3. Imprimir números capicúa de tres cifras dentro del rango.\n",
    "4. Salir.\n",
    "\n",
    "El programa utiliza funciones para modular las tareas y controla las excepciones.\n"
   ]
  },
  {
   "cell_type": "code",
   "execution_count": 5,
   "id": "9c67e5b9-51d5-4df9-83bf-4c6687c10d2a",
   "metadata": {},
   "outputs": [
    {
     "name": "stdout",
     "output_type": "stream",
     "text": [
      "\n",
      "************* Menú: Números Capicúa **************\n",
      "1. Ingresar un rango de números de hasta 4 cifras\n",
      "2. Imprimir números capicúa de dos cifras del rango\n",
      "3. Imprimir números capicúa de tres cifras del rango\n",
      "4. Salir\n",
      "**************************************************\n"
     ]
    },
    {
     "name": "stdin",
     "output_type": "stream",
     "text": [
      "Seleccione una opción:  4\n"
     ]
    },
    {
     "name": "stdout",
     "output_type": "stream",
     "text": [
      "Saliendo del programa.\n"
     ]
    }
   ],
   "source": [
    "def menu_capicua():\n",
    "    print(\"\\n\" + \" Menú: Números Capicúa \".center(50, \"*\"))\n",
    "    print(\"1. Ingresar un rango de números de hasta 4 cifras\")\n",
    "    print(\"2. Imprimir números capicúa de dos cifras del rango\")\n",
    "    print(\"3. Imprimir números capicúa de tres cifras del rango\")\n",
    "    print(\"4. Salir\")\n",
    "    print(\"*\" * 50)\n",
    "\n",
    "def es_capicua(numero):\n",
    "    return str(numero) == str(numero)[::-1]\n",
    "\n",
    "def numeros_capicua(rango, cifras):\n",
    "    return [n for n in rango if len(str(n)) == cifras and es_capicua(n)]\n",
    "\n",
    "def main():\n",
    "    inicio, fin = None, None\n",
    "    while True:\n",
    "        menu_capicua()\n",
    "        opcion = input(\"Seleccione una opción: \")\n",
    "        if opcion == \"1\":\n",
    "            inicio, fin = ingresar_rango()\n",
    "        elif opcion == \"2\":\n",
    "            if inicio is None or fin is None:\n",
    "                print(\"Debe ingresar un rango primero.\")\n",
    "            else:\n",
    "                print(\"Números capicúa de dos cifras:\", numeros_capicua(range(inicio, fin + 1), 2))\n",
    "        elif opcion == \"3\":\n",
    "            if inicio is None or fin is None:\n",
    "                print(\"Debe ingresar un rango primero.\")\n",
    "            else:\n",
    "                print(\"Números capicúa de tres cifras:\", numeros_capicua(range(inicio, fin + 1), 3))\n",
    "        elif opcion == \"4\":\n",
    "            print(\"Saliendo del programa.\")\n",
    "            break\n",
    "        else:\n",
    "            print(\"Opción inválida, intente de nuevo.\")\n",
    "\n",
    "if __name__ == \"__main__\":\n",
    "    main()\n"
   ]
  },
  {
   "cell_type": "markdown",
   "id": "37099f43-1f29-494f-9108-1eeb8229f271",
   "metadata": {},
   "source": [
    "# Ejercicio 4\n",
    "# Programa que imprima en pantalla un menu de \"Datos del Postulante\"\n",
    "1. Nombre (sin numeros o simbolos extraños)\n",
    "2. Apellido (sin numeros o simbolos extraños)\n",
    "3. DNI\n",
    "4. Celular 1\n",
    "5. Celular 2\n",
    "6. Altura\n",
    "7. Peso\n",
    "8. Imprimir los datos ingresados del postulante\n",
    "9. Salir\n"
   ]
  },
  {
   "cell_type": "code",
   "execution_count": 30,
   "id": "acabcf02-2c72-4236-aac6-7070d92f3c2e",
   "metadata": {},
   "outputs": [
    {
     "name": "stdout",
     "output_type": "stream",
     "text": [
      "Menú de Datos del Postulante\n",
      "1. Ingresar Nombre\n",
      "2. Ingresar Apellido\n",
      "3. Ingresar DNI\n",
      "4. Ingresar Celular 1\n",
      "5. Ingresar Celular 2\n",
      "6. Ingresar Altura\n",
      "7. Ingresar Peso\n",
      "8. Imprimir los datos ingresados\n",
      "9. Salir\n"
     ]
    },
    {
     "name": "stdin",
     "output_type": "stream",
     "text": [
      "Seleccione una opción:  1\n",
      "Ingrese su nombre:  Alex\n"
     ]
    },
    {
     "name": "stdout",
     "output_type": "stream",
     "text": [
      "Menú de Datos del Postulante\n",
      "1. Ingresar Nombre\n",
      "2. Ingresar Apellido\n",
      "3. Ingresar DNI\n",
      "4. Ingresar Celular 1\n",
      "5. Ingresar Celular 2\n",
      "6. Ingresar Altura\n",
      "7. Ingresar Peso\n",
      "8. Imprimir los datos ingresados\n",
      "9. Salir\n"
     ]
    },
    {
     "name": "stdin",
     "output_type": "stream",
     "text": [
      "Seleccione una opción:  2\n",
      "Ingrese su apellido:  Yncarroque\n"
     ]
    },
    {
     "name": "stdout",
     "output_type": "stream",
     "text": [
      "Menú de Datos del Postulante\n",
      "1. Ingresar Nombre\n",
      "2. Ingresar Apellido\n",
      "3. Ingresar DNI\n",
      "4. Ingresar Celular 1\n",
      "5. Ingresar Celular 2\n",
      "6. Ingresar Altura\n",
      "7. Ingresar Peso\n",
      "8. Imprimir los datos ingresados\n",
      "9. Salir\n"
     ]
    },
    {
     "name": "stdin",
     "output_type": "stream",
     "text": [
      "Seleccione una opción:  3\n",
      "Ingrese su DNI:  74578098\n"
     ]
    },
    {
     "name": "stdout",
     "output_type": "stream",
     "text": [
      "Menú de Datos del Postulante\n",
      "1. Ingresar Nombre\n",
      "2. Ingresar Apellido\n",
      "3. Ingresar DNI\n",
      "4. Ingresar Celular 1\n",
      "5. Ingresar Celular 2\n",
      "6. Ingresar Altura\n",
      "7. Ingresar Peso\n",
      "8. Imprimir los datos ingresados\n",
      "9. Salir\n"
     ]
    },
    {
     "name": "stdin",
     "output_type": "stream",
     "text": [
      "Seleccione una opción:  4\n",
      "Ingrese su número de celular:  967741733\n"
     ]
    },
    {
     "name": "stdout",
     "output_type": "stream",
     "text": [
      "Menú de Datos del Postulante\n",
      "1. Ingresar Nombre\n",
      "2. Ingresar Apellido\n",
      "3. Ingresar DNI\n",
      "4. Ingresar Celular 1\n",
      "5. Ingresar Celular 2\n",
      "6. Ingresar Altura\n",
      "7. Ingresar Peso\n",
      "8. Imprimir los datos ingresados\n",
      "9. Salir\n"
     ]
    },
    {
     "name": "stdin",
     "output_type": "stream",
     "text": [
      "Seleccione una opción:  7\n",
      "Ingrese su peso en kilogramos:  60\n"
     ]
    },
    {
     "name": "stdout",
     "output_type": "stream",
     "text": [
      "Menú de Datos del Postulante\n",
      "1. Ingresar Nombre\n",
      "2. Ingresar Apellido\n",
      "3. Ingresar DNI\n",
      "4. Ingresar Celular 1\n",
      "5. Ingresar Celular 2\n",
      "6. Ingresar Altura\n",
      "7. Ingresar Peso\n",
      "8. Imprimir los datos ingresados\n",
      "9. Salir\n"
     ]
    },
    {
     "name": "stdin",
     "output_type": "stream",
     "text": [
      "Seleccione una opción:  8\n"
     ]
    },
    {
     "name": "stdout",
     "output_type": "stream",
     "text": [
      "Datos del Postulante:\n",
      "Nombre: Alex\n",
      "Apellido: Yncarroque\n",
      "Dni: 74578098\n",
      "Celular1: 967741733\n",
      "Celular2: \n",
      "Altura: 0.0\n",
      "Peso: 60.0\n",
      "Menú de Datos del Postulante\n",
      "1. Ingresar Nombre\n",
      "2. Ingresar Apellido\n",
      "3. Ingresar DNI\n",
      "4. Ingresar Celular 1\n",
      "5. Ingresar Celular 2\n",
      "6. Ingresar Altura\n",
      "7. Ingresar Peso\n",
      "8. Imprimir los datos ingresados\n",
      "9. Salir\n"
     ]
    },
    {
     "name": "stdin",
     "output_type": "stream",
     "text": [
      "Seleccione una opción:  9\n"
     ]
    }
   ],
   "source": [
    "# Función para imprimir el menú\n",
    "def imprimir_menu():\n",
    "    print(\"Menú de Datos del Postulante\")\n",
    "    print(\"1. Ingresar Nombre\")\n",
    "    print(\"2. Ingresar Apellido\")\n",
    "    print(\"3. Ingresar DNI\")\n",
    "    print(\"4. Ingresar Celular 1\")\n",
    "    print(\"5. Ingresar Celular 2\")\n",
    "    print(\"6. Ingresar Altura\")\n",
    "    print(\"7. Ingresar Peso\")\n",
    "    print(\"8. Imprimir los datos ingresados\")\n",
    "    print(\"9. Salir\")\n",
    "\n",
    "# Función para ingresar datos, manejando excepciones\n",
    "def ingresar_nombre():\n",
    "    while True:\n",
    "        try:\n",
    "            nombre = input(\"Ingrese su nombre: \")\n",
    "            if not nombre.isalpha():\n",
    "                raise ValueError(\"El nombre no debe contener números o símbolos\")\n",
    "            return nombre\n",
    "        except ValueError as e:\n",
    "            print(e)\n",
    "\n",
    "def ingresar_apellido():\n",
    "    while True:\n",
    "        try:\n",
    "            apellido = input(\"Ingrese su apellido: \")\n",
    "            if not apellido.isalpha():\n",
    "                raise ValueError(\"El apellido no debe contener números o símbolos\")\n",
    "            return apellido\n",
    "        except ValueError as e:\n",
    "            print(e)\n",
    "\n",
    "def ingresar_dni():\n",
    "    while True:\n",
    "        try:\n",
    "            dni = input(\"Ingrese su DNI: \")\n",
    "            if not dni.isdigit() or len(dni) != 8:\n",
    "                raise ValueError(\"El DNI debe ser un número de 8 dígitos\")\n",
    "            return dni\n",
    "        except ValueError as e:\n",
    "            print(e)\n",
    "\n",
    "def ingresar_celular():\n",
    "    while True:\n",
    "        try:\n",
    "            celular = input(\"Ingrese su número de celular: \")\n",
    "            if not celular.isdigit() or len(celular) not in [9, 10]:\n",
    "                raise ValueError(\"El número de celular debe ser de 9 o 10 dígitos\")\n",
    "            return celular\n",
    "        except ValueError as e:\n",
    "            print(e)\n",
    "\n",
    "def ingresar_altura():\n",
    "    while True:\n",
    "        try:\n",
    "            altura = float(input(\"Ingrese su altura en metros: \"))\n",
    "            if altura <= 0:\n",
    "                raise ValueError(\"La altura debe ser un número positivo\")\n",
    "            return altura\n",
    "        except ValueError as e:\n",
    "            print(e)\n",
    "\n",
    "def ingresar_peso():\n",
    "    while True:\n",
    "        try:\n",
    "            peso = float(input(\"Ingrese su peso en kilogramos: \"))\n",
    "            if peso <= 0:\n",
    "                raise ValueError(\"El peso debe ser un número positivo\")\n",
    "            return peso\n",
    "        except ValueError as e:\n",
    "            print(e)\n",
    "\n",
    "def main():\n",
    "    datos_postulante = {\n",
    "        \"nombre\": \"\",\n",
    "        \"apellido\": \"\",\n",
    "        \"dni\": \"\",\n",
    "        \"celular1\": \"\",\n",
    "        \"celular2\": \"\",\n",
    "        \"altura\": 0.0,\n",
    "        \"peso\": 0.0\n",
    "    }\n",
    "    \n",
    "    while True:\n",
    "        imprimir_menu()\n",
    "        opcion = input(\"Seleccione una opción: \")\n",
    "        \n",
    "        if opcion == \"1\":\n",
    "            datos_postulante[\"nombre\"] = ingresar_nombre()\n",
    "        elif opcion == \"2\":\n",
    "            datos_postulante[\"apellido\"] = ingresar_apellido()\n",
    "        elif opcion == \"3\":\n",
    "            datos_postulante[\"dni\"] = ingresar_dni()\n",
    "        elif opcion == \"4\":\n",
    "            datos_postulante[\"celular1\"] = ingresar_celular()\n",
    "        elif opcion == \"5\":\n",
    "            datos_postulante[\"celular2\"] = ingresar_celular()\n",
    "        elif opcion == \"6\":\n",
    "            datos_postulante[\"altura\"] = ingresar_altura()\n",
    "        elif opcion == \"7\":\n",
    "            datos_postulante[\"peso\"] = ingresar_peso()\n",
    "        elif opcion == \"8\":\n",
    "            print(\"Datos del Postulante:\")\n",
    "            for clave, valor in datos_postulante.items():\n",
    "                print(f\"{clave.capitalize()}: {valor}\")\n",
    "        elif opcion == \"9\":\n",
    "            break\n",
    "        else:\n",
    "            print(\"Opción inválida. Por favor seleccione una opción válida.\")\n",
    "\n",
    "# Llamamos a la función main para ejecutar el programa\n",
    "main()\n"
   ]
  },
  {
   "cell_type": "markdown",
   "id": "d11248a0-3c3f-433c-8b86-948517f64da0",
   "metadata": {},
   "source": [
    "# Ejercicio 5\n",
    "programa que imprima en pantalla un menu de \"Datos del\n",
    "Alumno\" que solicite ingresar las siguientes opciones:\n",
    "1. Nombre (sin numeros o simbolos extraños)\n",
    "2. Apellido (sin numeros o simbolos extraños)\n",
    "3. Nota1\n",
    "4. Nota2\n",
    "5. Nota3\n",
    "6. Nota4\n",
    "7. Nota Proyecto Final\n",
    "8. Imprimir promedio del alumno\n",
    "9. Salir\n"
   ]
  },
  {
   "cell_type": "code",
   "execution_count": 42,
   "id": "5907b108-b840-4ead-9dfb-940d593ccfb7",
   "metadata": {},
   "outputs": [
    {
     "name": "stdout",
     "output_type": "stream",
     "text": [
      "MENU - Datos del Alumno\n",
      "\n",
      "Seleccione una opción:\n",
      "1. Ingresar Nombre\n",
      "2. Ingresar Apellido\n",
      "3. Ingresar Nota 1\n",
      "4. Ingresar Nota 2\n",
      "5. Ingresar Nota 3\n",
      "6. Ingresar Nota 4\n",
      "7. Ingresar Nota Proyecto Final\n",
      "8. Imprimir promedio del alumno\n",
      "9. Salir\n"
     ]
    },
    {
     "name": "stdin",
     "output_type": "stream",
     "text": [
      "Ingrese la opción deseada:  1\n",
      "Ingrese su nombre:  Alex\n"
     ]
    },
    {
     "name": "stdout",
     "output_type": "stream",
     "text": [
      "\n",
      "Seleccione una opción:\n",
      "1. Ingresar Nombre\n",
      "2. Ingresar Apellido\n",
      "3. Ingresar Nota 1\n",
      "4. Ingresar Nota 2\n",
      "5. Ingresar Nota 3\n",
      "6. Ingresar Nota 4\n",
      "7. Ingresar Nota Proyecto Final\n",
      "8. Imprimir promedio del alumno\n",
      "9. Salir\n"
     ]
    },
    {
     "name": "stdin",
     "output_type": "stream",
     "text": [
      "Ingrese la opción deseada:  2\n",
      "Ingrese su apellido:  Yncarroque\n"
     ]
    },
    {
     "name": "stdout",
     "output_type": "stream",
     "text": [
      "\n",
      "Seleccione una opción:\n",
      "1. Ingresar Nombre\n",
      "2. Ingresar Apellido\n",
      "3. Ingresar Nota 1\n",
      "4. Ingresar Nota 2\n",
      "5. Ingresar Nota 3\n",
      "6. Ingresar Nota 4\n",
      "7. Ingresar Nota Proyecto Final\n",
      "8. Imprimir promedio del alumno\n",
      "9. Salir\n"
     ]
    },
    {
     "name": "stdin",
     "output_type": "stream",
     "text": [
      "Ingrese la opción deseada:  3\n",
      "Ingrese la Nota 1:  15\n"
     ]
    },
    {
     "name": "stdout",
     "output_type": "stream",
     "text": [
      "\n",
      "Seleccione una opción:\n",
      "1. Ingresar Nombre\n",
      "2. Ingresar Apellido\n",
      "3. Ingresar Nota 1\n",
      "4. Ingresar Nota 2\n",
      "5. Ingresar Nota 3\n",
      "6. Ingresar Nota 4\n",
      "7. Ingresar Nota Proyecto Final\n",
      "8. Imprimir promedio del alumno\n",
      "9. Salir\n"
     ]
    },
    {
     "name": "stdin",
     "output_type": "stream",
     "text": [
      "Ingrese la opción deseada:  4\n",
      "Ingrese la Nota 2:  15\n"
     ]
    },
    {
     "name": "stdout",
     "output_type": "stream",
     "text": [
      "\n",
      "Seleccione una opción:\n",
      "1. Ingresar Nombre\n",
      "2. Ingresar Apellido\n",
      "3. Ingresar Nota 1\n",
      "4. Ingresar Nota 2\n",
      "5. Ingresar Nota 3\n",
      "6. Ingresar Nota 4\n",
      "7. Ingresar Nota Proyecto Final\n",
      "8. Imprimir promedio del alumno\n",
      "9. Salir\n"
     ]
    },
    {
     "name": "stdin",
     "output_type": "stream",
     "text": [
      "Ingrese la opción deseada:  9\n"
     ]
    },
    {
     "name": "stdout",
     "output_type": "stream",
     "text": [
      "Saliendo del programa...\n"
     ]
    }
   ],
   "source": [
    "\n",
    "# Función para ingresar un dato textual sin números o símbolos extraños\n",
    "def ingresar_texto(mensaje):\n",
    "    while True:\n",
    "        texto = input(mensaje).strip()\n",
    "        if texto.isalpha():  # Verifica que solo contenga letras\n",
    "            return texto\n",
    "        else:\n",
    "            print(\"El dato debe contener solo letras. Por favor, intente nuevamente.\")\n",
    "\n",
    "# Función para ingresar una nota y validar que sea un número entre 0 y 20\n",
    "def ingresar_nota(mensaje):\n",
    "    while True:\n",
    "        try:\n",
    "            nota = float(input(mensaje).strip())\n",
    "            if 0 <= nota <= 20:  # Verifica que la nota esté en el rango correcto\n",
    "                return nota\n",
    "            else:\n",
    "                print(\"La nota debe estar entre 0 y 20. Por favor, intente nuevamente.\")\n",
    "        except ValueError:\n",
    "            print(\"La nota debe ser un número. Por favor, intente nuevamente.\")\n",
    "\n",
    "# Función para calcular el promedio\n",
    "def calcular_promedio(nota1, nota2, nota3, nota4, nota_proyecto_final):\n",
    "    promedio = (nota1 + nota2 + nota3 + nota4 + (nota_proyecto_final * 3)) / 7\n",
    "    return promedio\n",
    "\n",
    "# Función para imprimir el estado del alumno\n",
    "def imprimir_estado(promedio):\n",
    "    if promedio > 10.5:\n",
    "        estado = \"APROBADO\"\n",
    "    else:\n",
    "        estado = \"DESAPROBADO\"\n",
    "    \n",
    "    if promedio > 17.5:\n",
    "        estado += \" QUINTO SUPERIOR\"\n",
    "    if promedio > 19.5:\n",
    "        estado += \" DECIMO SUPERIOR\"\n",
    "    \n",
    "    print(f\"Promedio: {promedio:.2f}\")\n",
    "    print(f\"Estado: {estado}\")\n",
    "\n",
    "# Función principal para el flujo del programa\n",
    "def main():\n",
    "    print(\"MENU - Datos del Alumno\")\n",
    "    while True:\n",
    "        print(\"\\nSeleccione una opción:\")\n",
    "        print(\"1. Ingresar Nombre\")\n",
    "        print(\"2. Ingresar Apellido\")\n",
    "        print(\"3. Ingresar Nota 1\")\n",
    "        print(\"4. Ingresar Nota 2\")\n",
    "        print(\"5. Ingresar Nota 3\")\n",
    "        print(\"6. Ingresar Nota 4\")\n",
    "        print(\"7. Ingresar Nota Proyecto Final\")\n",
    "        print(\"8. Imprimir promedio del alumno\")\n",
    "        print(\"9. Salir\")\n",
    "\n",
    "        opcion = input(\"Ingrese la opción deseada: \").strip()\n",
    "\n",
    "        # Variables globales para los datos del alumno\n",
    "        nombre = \"\"\n",
    "        apellido = \"\"\n",
    "        nota1 = nota2 = nota3 = nota4 = nota_proyecto_final = 0\n",
    "\n",
    "        if opcion == \"1\":\n",
    "            nombre = ingresar_texto(\"Ingrese su nombre: \")\n",
    "        elif opcion == \"2\":\n",
    "            apellido = ingresar_texto(\"Ingrese su apellido: \")\n",
    "        elif opcion == \"3\":\n",
    "            nota1 = ingresar_nota(\"Ingrese la Nota 1: \")\n",
    "        elif opcion == \"4\":\n",
    "            nota2 = ingresar_nota(\"Ingrese la Nota 2: \")\n",
    "        elif opcion == \"5\":\n",
    "            nota3 = ingresar_nota(\"Ingrese la Nota 3: \")\n",
    "        elif opcion == \"6\":\n",
    "            nota4 = ingresar_nota(\"Ingrese la Nota 4: \")\n",
    "        elif opcion == \"7\":\n",
    "            nota_proyecto_final = ingresar_nota(\"Ingrese la Nota Proyecto Final: \")\n",
    "        elif opcion == \"8\":\n",
    "            promedio = calcular_promedio(nota1, nota2, nota3, nota4, nota_proyecto_final)\n",
    "            imprimir_estado(promedio)\n",
    "        elif opcion == \"9\":\n",
    "            print(\"Saliendo del programa...\")\n",
    "            break\n",
    "        else:\n",
    "            print(\"Opción no válida. Intente nuevamente.\")\n",
    "\n",
    "# Llamar la función main para ejecutar el programa\n",
    "main()\n",
    "\n"
   ]
  },
  {
   "cell_type": "markdown",
   "id": "1df84595-85cb-4a65-ad80-bcbbb2a8fb4a",
   "metadata": {},
   "source": [
    "# Ejercicio 6\n",
    "6.‑ Hacer un programa que imprima en pantalla menu \"Numeros Capicua\"\n",
    "con la siguientes opciones:\n",
    "1. Imprimir Numeros Capicua de 3 cifras\n",
    "2. Imprimir Numeros Capicua de 4 cifras\n",
    "3. Validar Numeros Capicua de 3 cifras\n",
    "4. Validar Numeros Capicua de 4 cifras\n",
    "5. Salir\n"
   ]
  },
  {
   "cell_type": "code",
   "execution_count": 46,
   "id": "8eb53156-836c-4f7f-862c-95ab982c4ba3",
   "metadata": {},
   "outputs": [
    {
     "name": "stdout",
     "output_type": "stream",
     "text": [
      "\n",
      "MENU - Números Capicúa\n",
      "1. Imprimir Números Capicúa de 3 cifras\n",
      "2. Imprimir Números Capicúa de 4 cifras\n",
      "3. Validar Números Capicúa de 3 cifras\n",
      "4. Validar Números Capicúa de 4 cifras\n",
      "5. Salir\n"
     ]
    },
    {
     "name": "stdin",
     "output_type": "stream",
     "text": [
      "Seleccione una opción:  1\n"
     ]
    },
    {
     "name": "stdout",
     "output_type": "stream",
     "text": [
      "101\n",
      "111\n",
      "121\n",
      "131\n",
      "141\n",
      "151\n",
      "161\n",
      "171\n",
      "181\n",
      "191\n",
      "202\n",
      "212\n",
      "222\n",
      "232\n",
      "242\n",
      "252\n",
      "262\n",
      "272\n",
      "282\n",
      "292\n",
      "303\n",
      "313\n",
      "323\n",
      "333\n",
      "343\n",
      "353\n",
      "363\n",
      "373\n",
      "383\n",
      "393\n",
      "404\n",
      "414\n",
      "424\n",
      "434\n",
      "444\n",
      "454\n",
      "464\n",
      "474\n",
      "484\n",
      "494\n",
      "505\n",
      "515\n",
      "525\n",
      "535\n",
      "545\n",
      "555\n",
      "565\n",
      "575\n",
      "585\n",
      "595\n",
      "606\n",
      "616\n",
      "626\n",
      "636\n",
      "646\n",
      "656\n",
      "666\n",
      "676\n",
      "686\n",
      "696\n",
      "707\n",
      "717\n",
      "727\n",
      "737\n",
      "747\n",
      "757\n",
      "767\n",
      "777\n",
      "787\n",
      "797\n",
      "808\n",
      "818\n",
      "828\n",
      "838\n",
      "848\n",
      "858\n",
      "868\n",
      "878\n",
      "888\n",
      "898\n",
      "909\n",
      "919\n",
      "929\n",
      "939\n",
      "949\n",
      "959\n",
      "969\n",
      "979\n",
      "989\n",
      "999\n",
      "\n",
      "MENU - Números Capicúa\n",
      "1. Imprimir Números Capicúa de 3 cifras\n",
      "2. Imprimir Números Capicúa de 4 cifras\n",
      "3. Validar Números Capicúa de 3 cifras\n",
      "4. Validar Números Capicúa de 4 cifras\n",
      "5. Salir\n"
     ]
    },
    {
     "name": "stdin",
     "output_type": "stream",
     "text": [
      "Seleccione una opción:  2\n"
     ]
    },
    {
     "name": "stdout",
     "output_type": "stream",
     "text": [
      "1001\n",
      "1111\n",
      "1221\n",
      "1331\n",
      "1441\n",
      "1551\n",
      "1661\n",
      "1771\n",
      "1881\n",
      "1991\n",
      "2002\n",
      "2112\n",
      "2222\n",
      "2332\n",
      "2442\n",
      "2552\n",
      "2662\n",
      "2772\n",
      "2882\n",
      "2992\n",
      "3003\n",
      "3113\n",
      "3223\n",
      "3333\n",
      "3443\n",
      "3553\n",
      "3663\n",
      "3773\n",
      "3883\n",
      "3993\n",
      "4004\n",
      "4114\n",
      "4224\n",
      "4334\n",
      "4444\n",
      "4554\n",
      "4664\n",
      "4774\n",
      "4884\n",
      "4994\n",
      "5005\n",
      "5115\n",
      "5225\n",
      "5335\n",
      "5445\n",
      "5555\n",
      "5665\n",
      "5775\n",
      "5885\n",
      "5995\n",
      "6006\n",
      "6116\n",
      "6226\n",
      "6336\n",
      "6446\n",
      "6556\n",
      "6666\n",
      "6776\n",
      "6886\n",
      "6996\n",
      "7007\n",
      "7117\n",
      "7227\n",
      "7337\n",
      "7447\n",
      "7557\n",
      "7667\n",
      "7777\n",
      "7887\n",
      "7997\n",
      "8008\n",
      "8118\n",
      "8228\n",
      "8338\n",
      "8448\n",
      "8558\n",
      "8668\n",
      "8778\n",
      "8888\n",
      "8998\n",
      "9009\n",
      "9119\n",
      "9229\n",
      "9339\n",
      "9449\n",
      "9559\n",
      "9669\n",
      "9779\n",
      "9889\n",
      "9999\n",
      "\n",
      "MENU - Números Capicúa\n",
      "1. Imprimir Números Capicúa de 3 cifras\n",
      "2. Imprimir Números Capicúa de 4 cifras\n",
      "3. Validar Números Capicúa de 3 cifras\n",
      "4. Validar Números Capicúa de 4 cifras\n",
      "5. Salir\n"
     ]
    },
    {
     "name": "stdin",
     "output_type": "stream",
     "text": [
      "Seleccione una opción:  9\n"
     ]
    },
    {
     "name": "stdout",
     "output_type": "stream",
     "text": [
      "Opción no válida. Por favor, intente nuevamente.\n",
      "\n",
      "MENU - Números Capicúa\n",
      "1. Imprimir Números Capicúa de 3 cifras\n",
      "2. Imprimir Números Capicúa de 4 cifras\n",
      "3. Validar Números Capicúa de 3 cifras\n",
      "4. Validar Números Capicúa de 4 cifras\n",
      "5. Salir\n"
     ]
    },
    {
     "name": "stdin",
     "output_type": "stream",
     "text": [
      "Seleccione una opción:  5\n"
     ]
    },
    {
     "name": "stdout",
     "output_type": "stream",
     "text": [
      "Saliendo del programa...\n"
     ]
    }
   ],
   "source": [
    "\n",
    "# Función para verificar si un número de 3 cifras es capicúa\n",
    "def es_capicua_3_cifras(numero):\n",
    "    if len(str(numero)) == 3:  # Verificar que el número tiene 3 cifras\n",
    "        return str(numero) == str(numero)[::-1]  # Compara el número con su reverso\n",
    "    return False\n",
    "\n",
    "# Función para verificar si un número de 4 cifras es capicúa\n",
    "def es_capicua_4_cifras(numero):\n",
    "    if len(str(numero)) == 4:  # Verificar que el número tiene 4 cifras\n",
    "        return str(numero) == str(numero)[::-1]  # Compara el número con su reverso\n",
    "    return False\n",
    "\n",
    "# Función para imprimir los números capicúa de 3 cifras\n",
    "def imprimir_capicuas_3_cifras():\n",
    "    for num in range(100, 1000):\n",
    "        if es_capicua_3_cifras(num):\n",
    "            print(num)\n",
    "\n",
    "# Función para imprimir los números capicúa de 4 cifras\n",
    "def imprimir_capicuas_4_cifras():\n",
    "    for num in range(1000, 10000):\n",
    "        if es_capicua_4_cifras(num):\n",
    "            print(num)\n",
    "\n",
    "# Función para validar si un número de 3 cifras es capicúa\n",
    "def validar_capicua_3_cifras():\n",
    "    while True:\n",
    "        try:\n",
    "            numero = int(input(\"Ingrese un número de 3 cifras: \"))\n",
    "            if 100 <= numero <= 999:\n",
    "                if es_capicua_3_cifras(numero):\n",
    "                    print(f\"El número {numero} es capicúa.\")\n",
    "                else:\n",
    "                    print(f\"El número {numero} NO es capicúa.\")\n",
    "                break\n",
    "            else:\n",
    "                print(\"Por favor, ingrese un número de 3 cifras (entre 100 y 999).\")\n",
    "        except ValueError:\n",
    "            print(\"Entrada no válida. Debe ingresar un número.\")\n",
    "\n",
    "# Función para validar si un número de 4 cifras es capicúa\n",
    "def validar_capicua_4_cifras():\n",
    "    while True:\n",
    "        try:\n",
    "            numero = int(input(\"Ingrese un número de 4 cifras: \"))\n",
    "            if 1000 <= numero <= 9999:\n",
    "                if es_capicua_4_cifras(numero):\n",
    "                    print(f\"El número {numero} es capicúa.\")\n",
    "                else:\n",
    "                    print(f\"El número {numero} NO es capicúa.\")\n",
    "                break\n",
    "            else:\n",
    "                print(\"Por favor, ingrese un número de 4 cifras (entre 1000 y 9999).\")\n",
    "        except ValueError:\n",
    "            print(\"Entrada no válida. Debe ingresar un número.\")\n",
    "\n",
    "# Función principal para manejar el menú y las opciones\n",
    "def main():\n",
    "    while True:\n",
    "        print(\"\\nMENU - Números Capicúa\")\n",
    "        print(\"1. Imprimir Números Capicúa de 3 cifras\")\n",
    "        print(\"2. Imprimir Números Capicúa de 4 cifras\")\n",
    "        print(\"3. Validar Números Capicúa de 3 cifras\")\n",
    "        print(\"4. Validar Números Capicúa de 4 cifras\")\n",
    "        print(\"5. Salir\")\n",
    "        \n",
    "        opcion = input(\"Seleccione una opción: \").strip()\n",
    "\n",
    "        if opcion == \"1\":\n",
    "            imprimir_capicuas_3_cifras()\n",
    "        elif opcion == \"2\":\n",
    "            imprimir_capicuas_4_cifras()\n",
    "        elif opcion == \"3\":\n",
    "            validar_capicua_3_cifras()\n",
    "        elif opcion == \"4\":\n",
    "            validar_capicua_4_cifras()\n",
    "        elif opcion == \"5\":\n",
    "            print(\"Saliendo del programa...\")\n",
    "            break\n",
    "        else:\n",
    "            print(\"Opción no válida. Por favor, intente nuevamente.\")\n",
    "\n",
    "# Llamar a la función principal para ejecutar el programa\n",
    "main()\n",
    "\n"
   ]
  },
  {
   "cell_type": "markdown",
   "id": "9e2d5673-03b2-4aa2-b771-17e02a7a46b3",
   "metadata": {},
   "source": [
    "# Ejercicio 7\n",
    "Hacer un programa que imprima en pantalla menu \"Datos del Paciente\"\n",
    "que solicite ingresar la siguientes opciones:\n",
    "1. Nombre (sin numeros o simbolos extraños)\n",
    "2. Apellido (sin numeros o simbolos extraños)\n",
    "3. Edad\n",
    "4. Peso\n",
    "5. Sexo\n",
    "6. Imprimir Dieta\n",
    "7. Salir\n",
    "La impresión de la dieta dependera de:\n",
    "Para Mujeres:\n",
    "Si su peso es menor a 40Kilos no hay dieta\n",
    "Si su peso esta entre 40kilos y 50Kilos dieta rica en vegetales (detallar dieta)\n",
    "Si su peso esta entre 50kilos y 60Kilos dieta rica en vegetales y frutas (detallar dieta)\n",
    "Si su peso esta entre 60kilos y 80Kilos dieta rica en vegetales, frutas y semillas (detallar dieta)\n",
    "Si su peso es mayor a 80Kilos debe hacerse cirugía\n",
    "Para Varones:\n",
    "Si su peso es menor a 60Kilos no hay dieta\n",
    "Si su peso esta entre 60kilos y 75Kilos dieta rica en vegetales (detallar dieta)\n",
    "Si su peso esta entre 75kilos y 95Kilos dieta rica en vegetales y frutas (detallar dieta)\n",
    "Si su peso esta entre 95kilos y 120Kilos dieta rica en vegetales, frutas y semillas (detallar dieta)\n",
    "Si su peso es mayor a 120Kilos debe hacerse cirugía"
   ]
  },
  {
   "cell_type": "code",
   "execution_count": 48,
   "id": "6c34e7bb-82fd-4280-aba1-b323ad962687",
   "metadata": {},
   "outputs": [
    {
     "name": "stdout",
     "output_type": "stream",
     "text": [
      "\n",
      "MENU - Datos del Paciente\n",
      "1. Ingresar Nombre\n",
      "2. Ingresar Apellido\n",
      "3. Ingresar Edad\n",
      "4. Ingresar Peso\n",
      "5. Ingresar Sexo\n",
      "6. Imprimir Dieta\n",
      "7. Salir\n"
     ]
    },
    {
     "name": "stdin",
     "output_type": "stream",
     "text": [
      "Seleccione una opción:  1\n",
      "Ingrese su nombre:  Alex\n"
     ]
    },
    {
     "name": "stdout",
     "output_type": "stream",
     "text": [
      "Nombre ingresado: Alex\n",
      "\n",
      "MENU - Datos del Paciente\n",
      "1. Ingresar Nombre\n",
      "2. Ingresar Apellido\n",
      "3. Ingresar Edad\n",
      "4. Ingresar Peso\n",
      "5. Ingresar Sexo\n",
      "6. Imprimir Dieta\n",
      "7. Salir\n"
     ]
    },
    {
     "name": "stdin",
     "output_type": "stream",
     "text": [
      "Seleccione una opción:  2\n",
      "Ingrese su apellido:  Yncarroque\n"
     ]
    },
    {
     "name": "stdout",
     "output_type": "stream",
     "text": [
      "Apellido ingresado: Yncarroque\n",
      "\n",
      "MENU - Datos del Paciente\n",
      "1. Ingresar Nombre\n",
      "2. Ingresar Apellido\n",
      "3. Ingresar Edad\n",
      "4. Ingresar Peso\n",
      "5. Ingresar Sexo\n",
      "6. Imprimir Dieta\n",
      "7. Salir\n"
     ]
    },
    {
     "name": "stdin",
     "output_type": "stream",
     "text": [
      "Seleccione una opción:  3\n",
      "Ingrese su edad:  10\n"
     ]
    },
    {
     "name": "stdout",
     "output_type": "stream",
     "text": [
      "Edad ingresada: 10\n",
      "\n",
      "MENU - Datos del Paciente\n",
      "1. Ingresar Nombre\n",
      "2. Ingresar Apellido\n",
      "3. Ingresar Edad\n",
      "4. Ingresar Peso\n",
      "5. Ingresar Sexo\n",
      "6. Imprimir Dieta\n",
      "7. Salir\n"
     ]
    },
    {
     "name": "stdin",
     "output_type": "stream",
     "text": [
      "Seleccione una opción:  4\n",
      "Ingrese su peso en kilogramos:  40\n"
     ]
    },
    {
     "name": "stdout",
     "output_type": "stream",
     "text": [
      "Peso ingresado: 40.0 kg\n",
      "\n",
      "MENU - Datos del Paciente\n",
      "1. Ingresar Nombre\n",
      "2. Ingresar Apellido\n",
      "3. Ingresar Edad\n",
      "4. Ingresar Peso\n",
      "5. Ingresar Sexo\n",
      "6. Imprimir Dieta\n",
      "7. Salir\n"
     ]
    },
    {
     "name": "stdin",
     "output_type": "stream",
     "text": [
      "Seleccione una opción:  6\n"
     ]
    },
    {
     "name": "stdout",
     "output_type": "stream",
     "text": [
      "Debe ingresar el sexo y el peso para imprimir la dieta.\n",
      "\n",
      "MENU - Datos del Paciente\n",
      "1. Ingresar Nombre\n",
      "2. Ingresar Apellido\n",
      "3. Ingresar Edad\n",
      "4. Ingresar Peso\n",
      "5. Ingresar Sexo\n",
      "6. Imprimir Dieta\n",
      "7. Salir\n"
     ]
    },
    {
     "name": "stdin",
     "output_type": "stream",
     "text": [
      "Seleccione una opción:  manzanas\n"
     ]
    },
    {
     "name": "stdout",
     "output_type": "stream",
     "text": [
      "Opción no válida. Por favor, intente nuevamente.\n",
      "\n",
      "MENU - Datos del Paciente\n",
      "1. Ingresar Nombre\n",
      "2. Ingresar Apellido\n",
      "3. Ingresar Edad\n",
      "4. Ingresar Peso\n",
      "5. Ingresar Sexo\n",
      "6. Imprimir Dieta\n",
      "7. Salir\n"
     ]
    },
    {
     "name": "stdin",
     "output_type": "stream",
     "text": [
      "Seleccione una opción:  7\n"
     ]
    },
    {
     "name": "stdout",
     "output_type": "stream",
     "text": [
      "Saliendo del programa...\n"
     ]
    }
   ],
   "source": [
    "\n",
    "# Función para verificar si el nombre y apellido contienen solo letras\n",
    "def es_valido_nombre_apellido(texto):\n",
    "    return texto.isalpha()\n",
    "\n",
    "# Función para ingresar y validar el nombre\n",
    "def ingresar_nombre():\n",
    "    while True:\n",
    "        nombre = input(\"Ingrese su nombre: \").strip()\n",
    "        if es_valido_nombre_apellido(nombre):\n",
    "            return nombre\n",
    "        else:\n",
    "            print(\"El nombre debe contener solo letras, sin números ni símbolos extraños.\")\n",
    "\n",
    "# Función para ingresar y validar el apellido\n",
    "def ingresar_apellido():\n",
    "    while True:\n",
    "        apellido = input(\"Ingrese su apellido: \").strip()\n",
    "        if es_valido_nombre_apellido(apellido):\n",
    "            return apellido\n",
    "        else:\n",
    "            print(\"El apellido debe contener solo letras, sin números ni símbolos extraños.\")\n",
    "\n",
    "# Función para ingresar y validar la edad\n",
    "def ingresar_edad():\n",
    "    while True:\n",
    "        try:\n",
    "            edad = int(input(\"Ingrese su edad: \").strip())\n",
    "            if edad > 0:\n",
    "                return edad\n",
    "            else:\n",
    "                print(\"La edad debe ser un número positivo.\")\n",
    "        except ValueError:\n",
    "            print(\"Por favor ingrese una edad válida (número entero).\")\n",
    "\n",
    "# Función para ingresar y validar el peso\n",
    "def ingresar_peso():\n",
    "    while True:\n",
    "        try:\n",
    "            peso = float(input(\"Ingrese su peso en kilogramos: \").strip())\n",
    "            if peso > 0:\n",
    "                return peso\n",
    "            else:\n",
    "                print(\"El peso debe ser un número positivo.\")\n",
    "        except ValueError:\n",
    "            print(\"Por favor ingrese un peso válido (número real).\")\n",
    "\n",
    "# Función para ingresar y validar el sexo\n",
    "def ingresar_sexo():\n",
    "    while True:\n",
    "        sexo = input(\"Ingrese su sexo (M para Mujer, H para Hombre): \").strip().upper()\n",
    "        if sexo in [\"M\", \"H\"]:\n",
    "            return sexo\n",
    "        else:\n",
    "            print(\"Debe ingresar 'M' para Mujer o 'H' para Hombre.\")\n",
    "\n",
    "# Función para imprimir la dieta para mujeres\n",
    "def imprimir_dieta_mujer(peso):\n",
    "    if peso < 40:\n",
    "        print(\"No hay dieta recomendada.\")\n",
    "    elif 40 <= peso < 50:\n",
    "        print(\"Dieta rica en vegetales. Ejemplo: ensaladas, espinaca, brócoli, zanahorias.\")\n",
    "    elif 50 <= peso < 60:\n",
    "        print(\"Dieta rica en vegetales y frutas. Ejemplo: ensaladas, manzanas, uvas, pepinos.\")\n",
    "    elif 60 <= peso < 80:\n",
    "        print(\"Dieta rica en vegetales, frutas y semillas. Ejemplo: ensaladas con almendras, chia, zanahorias.\")\n",
    "    else:\n",
    "        print(\"Debe someterse a cirugía debido a su peso.\")\n",
    "\n",
    "# Función para imprimir la dieta para varones\n",
    "def imprimir_dieta_hombre(peso):\n",
    "    if peso < 60:\n",
    "        print(\"No hay dieta recomendada.\")\n",
    "    elif 60 <= peso < 75:\n",
    "        print(\"Dieta rica en vegetales. Ejemplo: ensaladas, espinaca, pepinos, zanahorias.\")\n",
    "    elif 75 <= peso < 95:\n",
    "        print(\"Dieta rica en vegetales y frutas. Ejemplo: ensaladas, manzanas, uvas, pepinos.\")\n",
    "    elif 95 <= peso < 120:\n",
    "        print(\"Dieta rica en vegetales, frutas y semillas. Ejemplo: ensaladas con almendras, chia, zanahorias.\")\n",
    "    else:\n",
    "        print(\"Debe someterse a cirugía debido a su peso.\")\n",
    "\n",
    "# Función para imprimir la dieta basada en el sexo y el peso\n",
    "def imprimir_dieta(sexo, peso):\n",
    "    if sexo == \"M\":\n",
    "        imprimir_dieta_mujer(peso)\n",
    "    elif sexo == \"H\":\n",
    "        imprimir_dieta_hombre(peso)\n",
    "\n",
    "# Función principal que maneja el menú y las opciones\n",
    "def main():\n",
    "    while True:\n",
    "        print(\"\\nMENU - Datos del Paciente\")\n",
    "        print(\"1. Ingresar Nombre\")\n",
    "        print(\"2. Ingresar Apellido\")\n",
    "        print(\"3. Ingresar Edad\")\n",
    "        print(\"4. Ingresar Peso\")\n",
    "        print(\"5. Ingresar Sexo\")\n",
    "        print(\"6. Imprimir Dieta\")\n",
    "        print(\"7. Salir\")\n",
    "        \n",
    "        opcion = input(\"Seleccione una opción: \").strip()\n",
    "\n",
    "        if opcion == \"1\":\n",
    "            nombre = ingresar_nombre()\n",
    "            print(f\"Nombre ingresado: {nombre}\")\n",
    "        elif opcion == \"2\":\n",
    "            apellido = ingresar_apellido()\n",
    "            print(f\"Apellido ingresado: {apellido}\")\n",
    "        elif opcion == \"3\":\n",
    "            edad = ingresar_edad()\n",
    "            print(f\"Edad ingresada: {edad}\")\n",
    "        elif opcion == \"4\":\n",
    "            peso = ingresar_peso()\n",
    "            print(f\"Peso ingresado: {peso} kg\")\n",
    "        elif opcion == \"5\":\n",
    "            sexo = ingresar_sexo()\n",
    "            print(f\"Sexo ingresado: {sexo}\")\n",
    "        elif opcion == \"6\":\n",
    "            if 'sexo' in locals() and 'peso' in locals():\n",
    "                imprimir_dieta(sexo, peso)\n",
    "            else:\n",
    "                print(\"Debe ingresar el sexo y el peso para imprimir la dieta.\")\n",
    "        elif opcion == \"7\":\n",
    "            print(\"Saliendo del programa...\")\n",
    "            break\n",
    "        else:\n",
    "            print(\"Opción no válida. Por favor, intente nuevamente.\")\n",
    "\n",
    "# Llamar a la función principal para ejecutar el programa\n",
    "main()\n",
    "\n"
   ]
  },
  {
   "cell_type": "code",
   "execution_count": null,
   "id": "e2028d57-0d2c-400d-8008-35508c8b9b98",
   "metadata": {},
   "outputs": [],
   "source": []
  }
 ],
 "metadata": {
  "kernelspec": {
   "display_name": "Python 3 (ipykernel)",
   "language": "python",
   "name": "python3"
  },
  "language_info": {
   "codemirror_mode": {
    "name": "ipython",
    "version": 3
   },
   "file_extension": ".py",
   "mimetype": "text/x-python",
   "name": "python",
   "nbconvert_exporter": "python",
   "pygments_lexer": "ipython3",
   "version": "3.12.7"
  }
 },
 "nbformat": 4,
 "nbformat_minor": 5
}
