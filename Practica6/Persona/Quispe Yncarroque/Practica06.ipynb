{
 "cells": [
  {
   "cell_type": "markdown",
   "id": "05e854e2-767c-4219-918f-09e90c4b3895",
   "metadata": {},
   "source": [
    "# Práctica de Python: Funciones y Excepciones\n"
   ]
  },
  {
   "cell_type": "markdown",
   "id": "5580f2e2-f40f-4693-b243-295db266e56e",
   "metadata": {},
   "source": [
    "## Introducción\n",
    "Manejo de excepciones en Python.  \n",
    "Las excepciones permiten evitar interrupciones inesperadas durante la ejecución de un programa.  \n",
    "La estructura básica de manejo de excepciones es la siguiente:\n",
    "\n",
    "```python\n",
    "try:\n",
    "    <código>\n",
    "    <código>\n",
    "    ...\n",
    "except:\n",
    "    <código>\n",
    "    <código>\n",
    "    ...\n"
   ]
  },
  {
   "cell_type": "markdown",
   "id": "fde860d8-f2f1-4aaa-a155-ae0fa4430da2",
   "metadata": {},
   "source": [
    "# Típicos Errores"
   ]
  },
  {
   "cell_type": "markdown",
   "id": "42fa1c48-fe0e-4a47-b22c-ce22612c03d3",
   "metadata": {},
   "source": [
    "\n",
    "## Típicos Errores en Python\n",
    "### ZeroDivisionError\n",
    "Se genera cuando se intenta dividir un número entre cero.  \n",
    "Ejemplo:\n",
    "```python\n",
    "10 / 0  # Lanza ZeroDivisionError\n"
   ]
  },
  {
   "cell_type": "code",
   "execution_count": 3,
   "id": "13c6fe5a-d2dc-43ee-9039-6ba2d895f0af",
   "metadata": {},
   "outputs": [
    {
     "ename": "ValueError",
     "evalue": "invalid literal for int() with base 10: 'texto'",
     "output_type": "error",
     "traceback": [
      "\u001b[1;31m---------------------------------------------------------------------------\u001b[0m",
      "\u001b[1;31mValueError\u001b[0m                                Traceback (most recent call last)",
      "Cell \u001b[1;32mIn[3], line 1\u001b[0m\n\u001b[1;32m----> 1\u001b[0m \u001b[38;5;28mint\u001b[39m(\u001b[38;5;124m\"\u001b[39m\u001b[38;5;124mtexto\u001b[39m\u001b[38;5;124m\"\u001b[39m)\n",
      "\u001b[1;31mValueError\u001b[0m: invalid literal for int() with base 10: 'texto'"
     ]
    }
   ],
   "source": [
    "int(\"texto\")  # Lanza ValueError\n"
   ]
  },
  {
   "cell_type": "code",
   "execution_count": 7,
   "id": "bddf7fed-1ef7-403e-912a-a9e565b58ccb",
   "metadata": {},
   "outputs": [
    {
     "name": "stdin",
     "output_type": "stream",
     "text": [
      "Ingrese un número entero:  5\n"
     ]
    },
    {
     "name": "stdout",
     "output_type": "stream",
     "text": [
      "El número ingresado es 5\n"
     ]
    }
   ],
   "source": [
    "\n",
    "def validar_entero():\n",
    "    while True:\n",
    "        try:\n",
    "            num = int(input(\"Ingrese un número entero: \"))\n",
    "            print(f\"El número ingresado es {num}\")\n",
    "            break\n",
    "        except ValueError:\n",
    "            print(\"Error: Debe ingresar un número entero. Intente nuevamente.\")\n",
    "\n",
    "validar_entero()\n"
   ]
  },
  {
   "cell_type": "code",
   "execution_count": 9,
   "id": "6b478028-5592-4029-9e7f-8f0bc079ea22",
   "metadata": {},
   "outputs": [
    {
     "name": "stdin",
     "output_type": "stream",
     "text": [
      "Ingrese un número entero positivo:  4\n"
     ]
    },
    {
     "name": "stdout",
     "output_type": "stream",
     "text": [
      "El número ingresado es 4\n"
     ]
    }
   ],
   "source": [
    "\n",
    "def validar_entero_positivo():\n",
    "    while True:\n",
    "        try:\n",
    "            num = int(input(\"Ingrese un número entero positivo: \"))\n",
    "            if num < 0:\n",
    "                raise ValueError(\"El número no es positivo.\")\n",
    "            print(f\"El número ingresado es {num}\")\n",
    "            break\n",
    "        except ValueError as e:\n",
    "            print(f\"Error: {e}. Intente nuevamente.\")\n",
    "\n",
    "validar_entero_positivo()\n"
   ]
  },
  {
   "cell_type": "markdown",
   "id": "0c39fb82-29fc-48e4-b74b-98f3bd9a9d98",
   "metadata": {},
   "source": [
    "## Estructura Funciones\n",
    "\n",
    "### Ejemplo de estructura básica\n",
    "```python\n",
    "def nombre_de_funcion(argumentos):\n",
    "    # Código de la función\n",
    "    pass\n"
   ]
  },
  {
   "cell_type": "code",
   "execution_count": 15,
   "id": "776e7b3e-1ed7-4313-a34c-d2ade7df4723",
   "metadata": {},
   "outputs": [
    {
     "name": "stdout",
     "output_type": "stream",
     "text": [
      "Bienvenido al programa principal.\n"
     ]
    }
   ],
   "source": [
    "\n",
    "def main():\n",
    "    print(\"Bienvenido al programa principal.\")\n",
    "    pass\n",
    "if __name__ == '__main__':\n",
    "    main()\n"
   ]
  },
  {
   "cell_type": "markdown",
   "id": "d9464c37-9639-41c9-af68-c4e6ccca2fca",
   "metadata": {},
   "source": [
    "## Ejemplo: Programa que valida el ingreso y muestra un menú\n",
    "Este programa incluye:\n",
    "1. Una función para mostrar un menú.\n",
    "2. Validaciones de entrada del usuario.\n",
    "3. Lógica para procesar las opciones seleccionadas.\n"
   ]
  },
  {
   "cell_type": "markdown",
   "id": "12dc35f8-1b21-4cc3-ae7d-c118797e882f",
   "metadata": {},
   "source": [
    "# EJEMPLOS\n",
    "Hacer un programa que imprima un menú de opciones y que valide\n",
    "correctamente los ingresos:"
   ]
  },
  {
   "cell_type": "code",
   "execution_count": 19,
   "id": "db5d0888-f7c8-4319-8ff5-e38942ac8795",
   "metadata": {},
   "outputs": [
    {
     "name": "stdout",
     "output_type": "stream",
     "text": [
      "*******************Menú General*******************\n",
      "\n",
      "\n",
      "\n",
      "Selecciona una Opción:\n",
      "\t1 - Primera Opción\n",
      "\t2 - Segunda Opción\n",
      "\t3 - Tercera Opción\n",
      "\t9 - Salir\n"
     ]
    },
    {
     "name": "stdin",
     "output_type": "stream",
     "text": [
      "Inserta un número:  9\n"
     ]
    },
    {
     "name": "stdout",
     "output_type": "stream",
     "text": [
      "Saliendo del programa...\n",
      "\tFINALIZÓ EL PROGRAMA!!!!!\n"
     ]
    }
   ],
   "source": [
    "# Librería para limpiar la pantalla (en terminales compatibles)\n",
    "import os\n",
    "\n",
    "def menu():\n",
    "    \"\"\"\n",
    "    Función que limpia la pantalla y muestra nuevamente el menú.\n",
    "    \"\"\"\n",
    "    os.system('clear')  # Borra pantalla (no funciona en Jupyter)\n",
    "    titulo = \"Menú General\"\n",
    "    print(titulo.center(50, '*'))\n",
    "    print(\"\\n\\n\")\n",
    "    print(\"Selecciona una Opción:\")\n",
    "    print(\"\\t1 - Primera Opción\")\n",
    "    print(\"\\t2 - Segunda Opción\")\n",
    "    print(\"\\t3 - Tercera Opción\")\n",
    "    print(\"\\t9 - Salir\")\n",
    "\n",
    "def validar():\n",
    "    while True:\n",
    "        # Mostramos el menú\n",
    "        menu()\n",
    "\n",
    "        # Solicitamos una opción al usuario\n",
    "        opcionMenu = input(\"Inserta un número: \")\n",
    "\n",
    "        if opcionMenu == \"1\":\n",
    "            input(\"Has pulsado la opción 1...\\nPulsa una tecla para continuar.\")\n",
    "        elif opcionMenu == \"2\":\n",
    "            input(\"Has pulsado la opción 2...\\nPulsa una tecla para continuar.\")\n",
    "        elif opcionMenu == \"3\":\n",
    "            input(\"Has pulsado la opción 3...\\nPulsa una tecla para continuar.\")\n",
    "        elif opcionMenu == \"9\":\n",
    "            print(\"Saliendo del programa...\")\n",
    "            break\n",
    "        else:\n",
    "            input(\"Opción incorrecta...\\nPulsa una tecla para continuar.\")\n",
    "\n",
    "# Llamamos a la función validar\n",
    "if __name__ == '__main__':\n",
    "    validar()\n",
    "    print('\\tFINALIZÓ EL PROGRAMA!!!!!')\n"
   ]
  },
  {
   "cell_type": "code",
   "execution_count": null,
   "id": "f2ad14a0-40f0-457a-bcc9-5cd36a37ba1b",
   "metadata": {},
   "outputs": [],
   "source": []
  }
 ],
 "metadata": {
  "kernelspec": {
   "display_name": "Python 3 (ipykernel)",
   "language": "python",
   "name": "python3"
  },
  "language_info": {
   "codemirror_mode": {
    "name": "ipython",
    "version": 3
   },
   "file_extension": ".py",
   "mimetype": "text/x-python",
   "name": "python",
   "nbconvert_exporter": "python",
   "pygments_lexer": "ipython3",
   "version": "3.12.7"
  }
 },
 "nbformat": 4,
 "nbformat_minor": 5
}
